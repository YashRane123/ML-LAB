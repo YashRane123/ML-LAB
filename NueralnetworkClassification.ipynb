{
  "nbformat": 4,
  "nbformat_minor": 0,
  "metadata": {
    "colab": {
      "name": "NueralnetworkClassification.ipynb",
      "provenance": [],
      "include_colab_link": true
    },
    "kernelspec": {
      "name": "python3",
      "display_name": "Python 3"
    },
    "language_info": {
      "name": "python"
    }
  },
  "cells": [
    {
      "cell_type": "markdown",
      "metadata": {
        "id": "view-in-github",
        "colab_type": "text"
      },
      "source": [
        "<a href=\"https://colab.research.google.com/github/YashRane123/ML-LAB/blob/main/NueralnetworkClassification.ipynb\" target=\"_parent\"><img src=\"https://colab.research.google.com/assets/colab-badge.svg\" alt=\"Open In Colab\"/></a>"
      ]
    },
    {
      "cell_type": "code",
      "source": [
        "from google.colab import drive\n",
        "drive.mount('/content/drive',force_remount=True)"
      ],
      "metadata": {
        "colab": {
          "base_uri": "https://localhost:8080/"
        },
        "id": "BDbXCLKgP6rF",
        "outputId": "b592d78e-954b-404d-b005-3d9f0ad370fd"
      },
      "execution_count": 1,
      "outputs": [
        {
          "output_type": "stream",
          "name": "stdout",
          "text": [
            "Mounted at /content/drive\n"
          ]
        }
      ]
    },
    {
      "cell_type": "code",
      "source": [
        "import pandas as pd\n",
        "data = pd.read_csv('/content/drive/MyDrive/diabetes (2).csv')"
      ],
      "metadata": {
        "id": "0dxUEz_tPvuO"
      },
      "execution_count": 2,
      "outputs": []
    },
    {
      "cell_type": "code",
      "source": [
        "data.head(10)"
      ],
      "metadata": {
        "colab": {
          "base_uri": "https://localhost:8080/",
          "height": 363
        },
        "id": "lKoY2qN_yHkQ",
        "outputId": "eea1b051-3b84-42e4-829e-7f13482a7bf8"
      },
      "execution_count": 3,
      "outputs": [
        {
          "output_type": "execute_result",
          "data": {
            "text/plain": [
              "   Pregnancies  Glucose  BloodPressure  SkinThickness  Insulin   BMI  \\\n",
              "0            6      148             72             35        0  33.6   \n",
              "1            1       85             66             29        0  26.6   \n",
              "2            8      183             64              0        0  23.3   \n",
              "3            1       89             66             23       94  28.1   \n",
              "4            0      137             40             35      168  43.1   \n",
              "5            5      116             74              0        0  25.6   \n",
              "6            3       78             50             32       88  31.0   \n",
              "7           10      115              0              0        0  35.3   \n",
              "8            2      197             70             45      543  30.5   \n",
              "9            8      125             96              0        0   0.0   \n",
              "\n",
              "   DiabetesPedigreeFunction  Age  Outcome  \n",
              "0                     0.627   50        1  \n",
              "1                     0.351   31        0  \n",
              "2                     0.672   32        1  \n",
              "3                     0.167   21        0  \n",
              "4                     2.288   33        1  \n",
              "5                     0.201   30        0  \n",
              "6                     0.248   26        1  \n",
              "7                     0.134   29        0  \n",
              "8                     0.158   53        1  \n",
              "9                     0.232   54        1  "
            ],
            "text/html": [
              "\n",
              "  <div id=\"df-612af485-27d4-4ff0-b2f2-4bef9602fa8b\">\n",
              "    <div class=\"colab-df-container\">\n",
              "      <div>\n",
              "<style scoped>\n",
              "    .dataframe tbody tr th:only-of-type {\n",
              "        vertical-align: middle;\n",
              "    }\n",
              "\n",
              "    .dataframe tbody tr th {\n",
              "        vertical-align: top;\n",
              "    }\n",
              "\n",
              "    .dataframe thead th {\n",
              "        text-align: right;\n",
              "    }\n",
              "</style>\n",
              "<table border=\"1\" class=\"dataframe\">\n",
              "  <thead>\n",
              "    <tr style=\"text-align: right;\">\n",
              "      <th></th>\n",
              "      <th>Pregnancies</th>\n",
              "      <th>Glucose</th>\n",
              "      <th>BloodPressure</th>\n",
              "      <th>SkinThickness</th>\n",
              "      <th>Insulin</th>\n",
              "      <th>BMI</th>\n",
              "      <th>DiabetesPedigreeFunction</th>\n",
              "      <th>Age</th>\n",
              "      <th>Outcome</th>\n",
              "    </tr>\n",
              "  </thead>\n",
              "  <tbody>\n",
              "    <tr>\n",
              "      <th>0</th>\n",
              "      <td>6</td>\n",
              "      <td>148</td>\n",
              "      <td>72</td>\n",
              "      <td>35</td>\n",
              "      <td>0</td>\n",
              "      <td>33.6</td>\n",
              "      <td>0.627</td>\n",
              "      <td>50</td>\n",
              "      <td>1</td>\n",
              "    </tr>\n",
              "    <tr>\n",
              "      <th>1</th>\n",
              "      <td>1</td>\n",
              "      <td>85</td>\n",
              "      <td>66</td>\n",
              "      <td>29</td>\n",
              "      <td>0</td>\n",
              "      <td>26.6</td>\n",
              "      <td>0.351</td>\n",
              "      <td>31</td>\n",
              "      <td>0</td>\n",
              "    </tr>\n",
              "    <tr>\n",
              "      <th>2</th>\n",
              "      <td>8</td>\n",
              "      <td>183</td>\n",
              "      <td>64</td>\n",
              "      <td>0</td>\n",
              "      <td>0</td>\n",
              "      <td>23.3</td>\n",
              "      <td>0.672</td>\n",
              "      <td>32</td>\n",
              "      <td>1</td>\n",
              "    </tr>\n",
              "    <tr>\n",
              "      <th>3</th>\n",
              "      <td>1</td>\n",
              "      <td>89</td>\n",
              "      <td>66</td>\n",
              "      <td>23</td>\n",
              "      <td>94</td>\n",
              "      <td>28.1</td>\n",
              "      <td>0.167</td>\n",
              "      <td>21</td>\n",
              "      <td>0</td>\n",
              "    </tr>\n",
              "    <tr>\n",
              "      <th>4</th>\n",
              "      <td>0</td>\n",
              "      <td>137</td>\n",
              "      <td>40</td>\n",
              "      <td>35</td>\n",
              "      <td>168</td>\n",
              "      <td>43.1</td>\n",
              "      <td>2.288</td>\n",
              "      <td>33</td>\n",
              "      <td>1</td>\n",
              "    </tr>\n",
              "    <tr>\n",
              "      <th>5</th>\n",
              "      <td>5</td>\n",
              "      <td>116</td>\n",
              "      <td>74</td>\n",
              "      <td>0</td>\n",
              "      <td>0</td>\n",
              "      <td>25.6</td>\n",
              "      <td>0.201</td>\n",
              "      <td>30</td>\n",
              "      <td>0</td>\n",
              "    </tr>\n",
              "    <tr>\n",
              "      <th>6</th>\n",
              "      <td>3</td>\n",
              "      <td>78</td>\n",
              "      <td>50</td>\n",
              "      <td>32</td>\n",
              "      <td>88</td>\n",
              "      <td>31.0</td>\n",
              "      <td>0.248</td>\n",
              "      <td>26</td>\n",
              "      <td>1</td>\n",
              "    </tr>\n",
              "    <tr>\n",
              "      <th>7</th>\n",
              "      <td>10</td>\n",
              "      <td>115</td>\n",
              "      <td>0</td>\n",
              "      <td>0</td>\n",
              "      <td>0</td>\n",
              "      <td>35.3</td>\n",
              "      <td>0.134</td>\n",
              "      <td>29</td>\n",
              "      <td>0</td>\n",
              "    </tr>\n",
              "    <tr>\n",
              "      <th>8</th>\n",
              "      <td>2</td>\n",
              "      <td>197</td>\n",
              "      <td>70</td>\n",
              "      <td>45</td>\n",
              "      <td>543</td>\n",
              "      <td>30.5</td>\n",
              "      <td>0.158</td>\n",
              "      <td>53</td>\n",
              "      <td>1</td>\n",
              "    </tr>\n",
              "    <tr>\n",
              "      <th>9</th>\n",
              "      <td>8</td>\n",
              "      <td>125</td>\n",
              "      <td>96</td>\n",
              "      <td>0</td>\n",
              "      <td>0</td>\n",
              "      <td>0.0</td>\n",
              "      <td>0.232</td>\n",
              "      <td>54</td>\n",
              "      <td>1</td>\n",
              "    </tr>\n",
              "  </tbody>\n",
              "</table>\n",
              "</div>\n",
              "      <button class=\"colab-df-convert\" onclick=\"convertToInteractive('df-612af485-27d4-4ff0-b2f2-4bef9602fa8b')\"\n",
              "              title=\"Convert this dataframe to an interactive table.\"\n",
              "              style=\"display:none;\">\n",
              "        \n",
              "  <svg xmlns=\"http://www.w3.org/2000/svg\" height=\"24px\"viewBox=\"0 0 24 24\"\n",
              "       width=\"24px\">\n",
              "    <path d=\"M0 0h24v24H0V0z\" fill=\"none\"/>\n",
              "    <path d=\"M18.56 5.44l.94 2.06.94-2.06 2.06-.94-2.06-.94-.94-2.06-.94 2.06-2.06.94zm-11 1L8.5 8.5l.94-2.06 2.06-.94-2.06-.94L8.5 2.5l-.94 2.06-2.06.94zm10 10l.94 2.06.94-2.06 2.06-.94-2.06-.94-.94-2.06-.94 2.06-2.06.94z\"/><path d=\"M17.41 7.96l-1.37-1.37c-.4-.4-.92-.59-1.43-.59-.52 0-1.04.2-1.43.59L10.3 9.45l-7.72 7.72c-.78.78-.78 2.05 0 2.83L4 21.41c.39.39.9.59 1.41.59.51 0 1.02-.2 1.41-.59l7.78-7.78 2.81-2.81c.8-.78.8-2.07 0-2.86zM5.41 20L4 18.59l7.72-7.72 1.47 1.35L5.41 20z\"/>\n",
              "  </svg>\n",
              "      </button>\n",
              "      \n",
              "  <style>\n",
              "    .colab-df-container {\n",
              "      display:flex;\n",
              "      flex-wrap:wrap;\n",
              "      gap: 12px;\n",
              "    }\n",
              "\n",
              "    .colab-df-convert {\n",
              "      background-color: #E8F0FE;\n",
              "      border: none;\n",
              "      border-radius: 50%;\n",
              "      cursor: pointer;\n",
              "      display: none;\n",
              "      fill: #1967D2;\n",
              "      height: 32px;\n",
              "      padding: 0 0 0 0;\n",
              "      width: 32px;\n",
              "    }\n",
              "\n",
              "    .colab-df-convert:hover {\n",
              "      background-color: #E2EBFA;\n",
              "      box-shadow: 0px 1px 2px rgba(60, 64, 67, 0.3), 0px 1px 3px 1px rgba(60, 64, 67, 0.15);\n",
              "      fill: #174EA6;\n",
              "    }\n",
              "\n",
              "    [theme=dark] .colab-df-convert {\n",
              "      background-color: #3B4455;\n",
              "      fill: #D2E3FC;\n",
              "    }\n",
              "\n",
              "    [theme=dark] .colab-df-convert:hover {\n",
              "      background-color: #434B5C;\n",
              "      box-shadow: 0px 1px 3px 1px rgba(0, 0, 0, 0.15);\n",
              "      filter: drop-shadow(0px 1px 2px rgba(0, 0, 0, 0.3));\n",
              "      fill: #FFFFFF;\n",
              "    }\n",
              "  </style>\n",
              "\n",
              "      <script>\n",
              "        const buttonEl =\n",
              "          document.querySelector('#df-612af485-27d4-4ff0-b2f2-4bef9602fa8b button.colab-df-convert');\n",
              "        buttonEl.style.display =\n",
              "          google.colab.kernel.accessAllowed ? 'block' : 'none';\n",
              "\n",
              "        async function convertToInteractive(key) {\n",
              "          const element = document.querySelector('#df-612af485-27d4-4ff0-b2f2-4bef9602fa8b');\n",
              "          const dataTable =\n",
              "            await google.colab.kernel.invokeFunction('convertToInteractive',\n",
              "                                                     [key], {});\n",
              "          if (!dataTable) return;\n",
              "\n",
              "          const docLinkHtml = 'Like what you see? Visit the ' +\n",
              "            '<a target=\"_blank\" href=https://colab.research.google.com/notebooks/data_table.ipynb>data table notebook</a>'\n",
              "            + ' to learn more about interactive tables.';\n",
              "          element.innerHTML = '';\n",
              "          dataTable['output_type'] = 'display_data';\n",
              "          await google.colab.output.renderOutput(dataTable, element);\n",
              "          const docLink = document.createElement('div');\n",
              "          docLink.innerHTML = docLinkHtml;\n",
              "          element.appendChild(docLink);\n",
              "        }\n",
              "      </script>\n",
              "    </div>\n",
              "  </div>\n",
              "  "
            ]
          },
          "metadata": {},
          "execution_count": 3
        }
      ]
    },
    {
      "cell_type": "code",
      "source": [
        "data.tail(5)"
      ],
      "metadata": {
        "colab": {
          "base_uri": "https://localhost:8080/",
          "height": 206
        },
        "id": "Yx9o6CnbyMLM",
        "outputId": "0d34b7a8-4214-4d83-fa36-395f18cabbc1"
      },
      "execution_count": 4,
      "outputs": [
        {
          "output_type": "execute_result",
          "data": {
            "text/plain": [
              "     Pregnancies  Glucose  BloodPressure  SkinThickness  Insulin   BMI  \\\n",
              "763           10      101             76             48      180  32.9   \n",
              "764            2      122             70             27        0  36.8   \n",
              "765            5      121             72             23      112  26.2   \n",
              "766            1      126             60              0        0  30.1   \n",
              "767            1       93             70             31        0  30.4   \n",
              "\n",
              "     DiabetesPedigreeFunction  Age  Outcome  \n",
              "763                     0.171   63        0  \n",
              "764                     0.340   27        0  \n",
              "765                     0.245   30        0  \n",
              "766                     0.349   47        1  \n",
              "767                     0.315   23        0  "
            ],
            "text/html": [
              "\n",
              "  <div id=\"df-f600baac-fb74-4ec2-85ed-43d6f6e372ca\">\n",
              "    <div class=\"colab-df-container\">\n",
              "      <div>\n",
              "<style scoped>\n",
              "    .dataframe tbody tr th:only-of-type {\n",
              "        vertical-align: middle;\n",
              "    }\n",
              "\n",
              "    .dataframe tbody tr th {\n",
              "        vertical-align: top;\n",
              "    }\n",
              "\n",
              "    .dataframe thead th {\n",
              "        text-align: right;\n",
              "    }\n",
              "</style>\n",
              "<table border=\"1\" class=\"dataframe\">\n",
              "  <thead>\n",
              "    <tr style=\"text-align: right;\">\n",
              "      <th></th>\n",
              "      <th>Pregnancies</th>\n",
              "      <th>Glucose</th>\n",
              "      <th>BloodPressure</th>\n",
              "      <th>SkinThickness</th>\n",
              "      <th>Insulin</th>\n",
              "      <th>BMI</th>\n",
              "      <th>DiabetesPedigreeFunction</th>\n",
              "      <th>Age</th>\n",
              "      <th>Outcome</th>\n",
              "    </tr>\n",
              "  </thead>\n",
              "  <tbody>\n",
              "    <tr>\n",
              "      <th>763</th>\n",
              "      <td>10</td>\n",
              "      <td>101</td>\n",
              "      <td>76</td>\n",
              "      <td>48</td>\n",
              "      <td>180</td>\n",
              "      <td>32.9</td>\n",
              "      <td>0.171</td>\n",
              "      <td>63</td>\n",
              "      <td>0</td>\n",
              "    </tr>\n",
              "    <tr>\n",
              "      <th>764</th>\n",
              "      <td>2</td>\n",
              "      <td>122</td>\n",
              "      <td>70</td>\n",
              "      <td>27</td>\n",
              "      <td>0</td>\n",
              "      <td>36.8</td>\n",
              "      <td>0.340</td>\n",
              "      <td>27</td>\n",
              "      <td>0</td>\n",
              "    </tr>\n",
              "    <tr>\n",
              "      <th>765</th>\n",
              "      <td>5</td>\n",
              "      <td>121</td>\n",
              "      <td>72</td>\n",
              "      <td>23</td>\n",
              "      <td>112</td>\n",
              "      <td>26.2</td>\n",
              "      <td>0.245</td>\n",
              "      <td>30</td>\n",
              "      <td>0</td>\n",
              "    </tr>\n",
              "    <tr>\n",
              "      <th>766</th>\n",
              "      <td>1</td>\n",
              "      <td>126</td>\n",
              "      <td>60</td>\n",
              "      <td>0</td>\n",
              "      <td>0</td>\n",
              "      <td>30.1</td>\n",
              "      <td>0.349</td>\n",
              "      <td>47</td>\n",
              "      <td>1</td>\n",
              "    </tr>\n",
              "    <tr>\n",
              "      <th>767</th>\n",
              "      <td>1</td>\n",
              "      <td>93</td>\n",
              "      <td>70</td>\n",
              "      <td>31</td>\n",
              "      <td>0</td>\n",
              "      <td>30.4</td>\n",
              "      <td>0.315</td>\n",
              "      <td>23</td>\n",
              "      <td>0</td>\n",
              "    </tr>\n",
              "  </tbody>\n",
              "</table>\n",
              "</div>\n",
              "      <button class=\"colab-df-convert\" onclick=\"convertToInteractive('df-f600baac-fb74-4ec2-85ed-43d6f6e372ca')\"\n",
              "              title=\"Convert this dataframe to an interactive table.\"\n",
              "              style=\"display:none;\">\n",
              "        \n",
              "  <svg xmlns=\"http://www.w3.org/2000/svg\" height=\"24px\"viewBox=\"0 0 24 24\"\n",
              "       width=\"24px\">\n",
              "    <path d=\"M0 0h24v24H0V0z\" fill=\"none\"/>\n",
              "    <path d=\"M18.56 5.44l.94 2.06.94-2.06 2.06-.94-2.06-.94-.94-2.06-.94 2.06-2.06.94zm-11 1L8.5 8.5l.94-2.06 2.06-.94-2.06-.94L8.5 2.5l-.94 2.06-2.06.94zm10 10l.94 2.06.94-2.06 2.06-.94-2.06-.94-.94-2.06-.94 2.06-2.06.94z\"/><path d=\"M17.41 7.96l-1.37-1.37c-.4-.4-.92-.59-1.43-.59-.52 0-1.04.2-1.43.59L10.3 9.45l-7.72 7.72c-.78.78-.78 2.05 0 2.83L4 21.41c.39.39.9.59 1.41.59.51 0 1.02-.2 1.41-.59l7.78-7.78 2.81-2.81c.8-.78.8-2.07 0-2.86zM5.41 20L4 18.59l7.72-7.72 1.47 1.35L5.41 20z\"/>\n",
              "  </svg>\n",
              "      </button>\n",
              "      \n",
              "  <style>\n",
              "    .colab-df-container {\n",
              "      display:flex;\n",
              "      flex-wrap:wrap;\n",
              "      gap: 12px;\n",
              "    }\n",
              "\n",
              "    .colab-df-convert {\n",
              "      background-color: #E8F0FE;\n",
              "      border: none;\n",
              "      border-radius: 50%;\n",
              "      cursor: pointer;\n",
              "      display: none;\n",
              "      fill: #1967D2;\n",
              "      height: 32px;\n",
              "      padding: 0 0 0 0;\n",
              "      width: 32px;\n",
              "    }\n",
              "\n",
              "    .colab-df-convert:hover {\n",
              "      background-color: #E2EBFA;\n",
              "      box-shadow: 0px 1px 2px rgba(60, 64, 67, 0.3), 0px 1px 3px 1px rgba(60, 64, 67, 0.15);\n",
              "      fill: #174EA6;\n",
              "    }\n",
              "\n",
              "    [theme=dark] .colab-df-convert {\n",
              "      background-color: #3B4455;\n",
              "      fill: #D2E3FC;\n",
              "    }\n",
              "\n",
              "    [theme=dark] .colab-df-convert:hover {\n",
              "      background-color: #434B5C;\n",
              "      box-shadow: 0px 1px 3px 1px rgba(0, 0, 0, 0.15);\n",
              "      filter: drop-shadow(0px 1px 2px rgba(0, 0, 0, 0.3));\n",
              "      fill: #FFFFFF;\n",
              "    }\n",
              "  </style>\n",
              "\n",
              "      <script>\n",
              "        const buttonEl =\n",
              "          document.querySelector('#df-f600baac-fb74-4ec2-85ed-43d6f6e372ca button.colab-df-convert');\n",
              "        buttonEl.style.display =\n",
              "          google.colab.kernel.accessAllowed ? 'block' : 'none';\n",
              "\n",
              "        async function convertToInteractive(key) {\n",
              "          const element = document.querySelector('#df-f600baac-fb74-4ec2-85ed-43d6f6e372ca');\n",
              "          const dataTable =\n",
              "            await google.colab.kernel.invokeFunction('convertToInteractive',\n",
              "                                                     [key], {});\n",
              "          if (!dataTable) return;\n",
              "\n",
              "          const docLinkHtml = 'Like what you see? Visit the ' +\n",
              "            '<a target=\"_blank\" href=https://colab.research.google.com/notebooks/data_table.ipynb>data table notebook</a>'\n",
              "            + ' to learn more about interactive tables.';\n",
              "          element.innerHTML = '';\n",
              "          dataTable['output_type'] = 'display_data';\n",
              "          await google.colab.output.renderOutput(dataTable, element);\n",
              "          const docLink = document.createElement('div');\n",
              "          docLink.innerHTML = docLinkHtml;\n",
              "          element.appendChild(docLink);\n",
              "        }\n",
              "      </script>\n",
              "    </div>\n",
              "  </div>\n",
              "  "
            ]
          },
          "metadata": {},
          "execution_count": 4
        }
      ]
    },
    {
      "cell_type": "code",
      "source": [
        "data.columns"
      ],
      "metadata": {
        "colab": {
          "base_uri": "https://localhost:8080/"
        },
        "id": "K6rvVqAlySII",
        "outputId": "40cfd2bb-8077-486c-c58a-2c3aa66a7cbb"
      },
      "execution_count": 5,
      "outputs": [
        {
          "output_type": "execute_result",
          "data": {
            "text/plain": [
              "Index(['Pregnancies', 'Glucose', 'BloodPressure', 'SkinThickness', 'Insulin',\n",
              "       'BMI', 'DiabetesPedigreeFunction', 'Age', 'Outcome'],\n",
              "      dtype='object')"
            ]
          },
          "metadata": {},
          "execution_count": 5
        }
      ]
    },
    {
      "cell_type": "code",
      "source": [
        "data.values"
      ],
      "metadata": {
        "colab": {
          "base_uri": "https://localhost:8080/"
        },
        "id": "_7fq2hN3zTyA",
        "outputId": "61c3d056-8370-471a-c0ca-35057a2893d6"
      },
      "execution_count": 6,
      "outputs": [
        {
          "output_type": "execute_result",
          "data": {
            "text/plain": [
              "array([[  6.   , 148.   ,  72.   , ...,   0.627,  50.   ,   1.   ],\n",
              "       [  1.   ,  85.   ,  66.   , ...,   0.351,  31.   ,   0.   ],\n",
              "       [  8.   , 183.   ,  64.   , ...,   0.672,  32.   ,   1.   ],\n",
              "       ...,\n",
              "       [  5.   , 121.   ,  72.   , ...,   0.245,  30.   ,   0.   ],\n",
              "       [  1.   , 126.   ,  60.   , ...,   0.349,  47.   ,   1.   ],\n",
              "       [  1.   ,  93.   ,  70.   , ...,   0.315,  23.   ,   0.   ]])"
            ]
          },
          "metadata": {},
          "execution_count": 6
        }
      ]
    },
    {
      "cell_type": "code",
      "source": [
        "dataset = data.values\n",
        "x = dataset[:,0:8]\n",
        "y = dataset[:,8]\n",
        "print(x)\n",
        "print(y)"
      ],
      "metadata": {
        "colab": {
          "base_uri": "https://localhost:8080/"
        },
        "id": "IDFEOJoezjp1",
        "outputId": "aa2764c1-2776-4dee-d58a-78f15d2f2e2c"
      },
      "execution_count": 7,
      "outputs": [
        {
          "output_type": "stream",
          "name": "stdout",
          "text": [
            "[[  6.    148.     72.    ...  33.6     0.627  50.   ]\n",
            " [  1.     85.     66.    ...  26.6     0.351  31.   ]\n",
            " [  8.    183.     64.    ...  23.3     0.672  32.   ]\n",
            " ...\n",
            " [  5.    121.     72.    ...  26.2     0.245  30.   ]\n",
            " [  1.    126.     60.    ...  30.1     0.349  47.   ]\n",
            " [  1.     93.     70.    ...  30.4     0.315  23.   ]]\n",
            "[1. 0. 1. 0. 1. 0. 1. 0. 1. 1. 0. 1. 0. 1. 1. 1. 1. 1. 0. 1. 0. 0. 1. 1.\n",
            " 1. 1. 1. 0. 0. 0. 0. 1. 0. 0. 0. 0. 0. 1. 1. 1. 0. 0. 0. 1. 0. 1. 0. 0.\n",
            " 1. 0. 0. 0. 0. 1. 0. 0. 1. 0. 0. 0. 0. 1. 0. 0. 1. 0. 1. 0. 0. 0. 1. 0.\n",
            " 1. 0. 0. 0. 0. 0. 1. 0. 0. 0. 0. 0. 1. 0. 0. 0. 1. 0. 0. 0. 0. 1. 0. 0.\n",
            " 0. 0. 0. 1. 1. 0. 0. 0. 0. 0. 0. 0. 0. 1. 1. 1. 0. 0. 1. 1. 1. 0. 0. 0.\n",
            " 1. 0. 0. 0. 1. 1. 0. 0. 1. 1. 1. 1. 1. 0. 0. 0. 0. 0. 0. 0. 0. 0. 0. 1.\n",
            " 0. 0. 0. 0. 0. 0. 0. 0. 1. 0. 1. 1. 0. 0. 0. 1. 0. 0. 0. 0. 1. 1. 0. 0.\n",
            " 0. 0. 1. 1. 0. 0. 0. 1. 0. 1. 0. 1. 0. 0. 0. 0. 0. 1. 1. 1. 1. 1. 0. 0.\n",
            " 1. 1. 0. 1. 0. 1. 1. 1. 0. 0. 0. 0. 0. 0. 1. 1. 0. 1. 0. 0. 0. 1. 1. 1.\n",
            " 1. 0. 1. 1. 1. 1. 0. 0. 0. 0. 0. 1. 0. 0. 1. 1. 0. 0. 0. 1. 1. 1. 1. 0.\n",
            " 0. 0. 1. 1. 0. 1. 0. 0. 0. 0. 0. 0. 0. 0. 1. 1. 0. 0. 0. 1. 0. 1. 0. 0.\n",
            " 1. 0. 1. 0. 0. 1. 1. 0. 0. 0. 0. 0. 1. 0. 0. 0. 1. 0. 0. 1. 1. 0. 0. 1.\n",
            " 0. 0. 0. 1. 1. 1. 0. 0. 1. 0. 1. 0. 1. 1. 0. 1. 0. 0. 1. 0. 1. 1. 0. 0.\n",
            " 1. 0. 1. 0. 0. 1. 0. 1. 0. 1. 1. 1. 0. 0. 1. 0. 1. 0. 0. 0. 1. 0. 0. 0.\n",
            " 0. 1. 1. 1. 0. 0. 0. 0. 0. 0. 0. 0. 0. 1. 0. 0. 0. 0. 0. 1. 1. 1. 0. 1.\n",
            " 1. 0. 0. 1. 0. 0. 1. 0. 0. 1. 1. 0. 0. 0. 0. 1. 0. 0. 1. 0. 0. 0. 0. 0.\n",
            " 0. 0. 1. 1. 1. 0. 0. 1. 0. 0. 1. 0. 0. 1. 0. 1. 1. 0. 1. 0. 1. 0. 1. 0.\n",
            " 1. 1. 0. 0. 0. 0. 1. 1. 0. 1. 0. 1. 0. 0. 0. 0. 1. 1. 0. 1. 0. 1. 0. 0.\n",
            " 0. 0. 0. 1. 0. 0. 0. 0. 1. 0. 0. 1. 1. 1. 0. 0. 1. 0. 0. 1. 0. 0. 0. 1.\n",
            " 0. 0. 1. 0. 0. 0. 0. 0. 0. 0. 0. 0. 1. 0. 0. 0. 0. 0. 0. 0. 1. 0. 0. 0.\n",
            " 1. 0. 0. 0. 1. 1. 0. 0. 0. 0. 0. 0. 0. 1. 0. 0. 0. 0. 1. 0. 0. 0. 1. 0.\n",
            " 0. 0. 1. 0. 0. 0. 1. 0. 0. 0. 0. 1. 1. 0. 0. 0. 0. 0. 0. 1. 0. 0. 0. 0.\n",
            " 0. 0. 0. 0. 0. 0. 0. 1. 0. 0. 0. 1. 1. 1. 1. 0. 0. 1. 1. 0. 0. 0. 0. 0.\n",
            " 0. 0. 0. 0. 0. 0. 0. 0. 1. 1. 0. 0. 0. 0. 0. 0. 0. 1. 0. 0. 0. 0. 0. 0.\n",
            " 0. 1. 0. 1. 1. 0. 0. 0. 1. 0. 1. 0. 1. 0. 1. 0. 1. 0. 0. 1. 0. 0. 1. 0.\n",
            " 0. 0. 0. 1. 1. 0. 1. 0. 0. 0. 0. 1. 1. 0. 1. 0. 0. 0. 1. 1. 0. 0. 0. 0.\n",
            " 0. 0. 0. 0. 0. 0. 1. 0. 0. 0. 0. 1. 0. 0. 1. 0. 0. 0. 1. 0. 0. 0. 1. 1.\n",
            " 1. 0. 0. 0. 0. 0. 0. 1. 0. 0. 0. 1. 0. 1. 1. 1. 1. 0. 1. 1. 0. 0. 0. 0.\n",
            " 0. 0. 0. 1. 1. 0. 1. 0. 0. 1. 0. 1. 0. 0. 0. 0. 0. 1. 0. 1. 0. 1. 0. 1.\n",
            " 1. 0. 0. 0. 0. 1. 1. 0. 0. 0. 1. 0. 1. 1. 0. 0. 1. 0. 0. 1. 1. 0. 0. 1.\n",
            " 0. 0. 1. 0. 0. 0. 0. 0. 0. 0. 1. 1. 1. 0. 0. 0. 0. 0. 0. 1. 1. 0. 0. 1.\n",
            " 0. 0. 1. 0. 1. 1. 1. 0. 0. 1. 1. 1. 0. 1. 0. 1. 0. 1. 0. 0. 0. 0. 1. 0.]\n"
          ]
        }
      ]
    },
    {
      "cell_type": "code",
      "source": [
        "from sklearn import preprocessing\n",
        "min_max_scalar = preprocessing.MinMaxScaler()\n",
        "x_scale = min_max_scalar.fit_transform(x)\n",
        "x_scale"
      ],
      "metadata": {
        "colab": {
          "base_uri": "https://localhost:8080/"
        },
        "id": "XK5712lF0qEx",
        "outputId": "8a81e864-a8d6-4317-b1ff-530b5ec0a360"
      },
      "execution_count": 8,
      "outputs": [
        {
          "output_type": "execute_result",
          "data": {
            "text/plain": [
              "array([[0.35294118, 0.74371859, 0.59016393, ..., 0.50074516, 0.23441503,\n",
              "        0.48333333],\n",
              "       [0.05882353, 0.42713568, 0.54098361, ..., 0.39642325, 0.11656704,\n",
              "        0.16666667],\n",
              "       [0.47058824, 0.91959799, 0.52459016, ..., 0.34724292, 0.25362938,\n",
              "        0.18333333],\n",
              "       ...,\n",
              "       [0.29411765, 0.6080402 , 0.59016393, ..., 0.390462  , 0.07130658,\n",
              "        0.15      ],\n",
              "       [0.05882353, 0.63316583, 0.49180328, ..., 0.4485842 , 0.11571307,\n",
              "        0.43333333],\n",
              "       [0.05882353, 0.46733668, 0.57377049, ..., 0.45305514, 0.10119556,\n",
              "        0.03333333]])"
            ]
          },
          "metadata": {},
          "execution_count": 8
        }
      ]
    },
    {
      "cell_type": "code",
      "source": [
        "from keras.utils import np_utils\n",
        "encoded_y = np_utils.to_categorical(y)\n",
        "encoded_y"
      ],
      "metadata": {
        "colab": {
          "base_uri": "https://localhost:8080/"
        },
        "id": "3yHqWTOv2dau",
        "outputId": "f86151f0-0e68-4b8e-f653-7fd59f6bb5c7"
      },
      "execution_count": 9,
      "outputs": [
        {
          "output_type": "execute_result",
          "data": {
            "text/plain": [
              "array([[0., 1.],\n",
              "       [1., 0.],\n",
              "       [0., 1.],\n",
              "       ...,\n",
              "       [1., 0.],\n",
              "       [0., 1.],\n",
              "       [1., 0.]], dtype=float32)"
            ]
          },
          "metadata": {},
          "execution_count": 9
        }
      ]
    },
    {
      "cell_type": "code",
      "source": [
        "from sklearn.model_selection import train_test_split\n",
        "x_training, x_testing, y_training, y_testing = train_test_split(x_scale, encoded_y, test_size=0.2, random_state=10)\n",
        "x_training, x_valid, y_training, y_valid = train_test_split(x_training, y_training, test_size=0.2,random_state=10)\n",
        "print(len(x_training))\n",
        "print(len(x_testing))\n",
        "print(len(x_valid))"
      ],
      "metadata": {
        "colab": {
          "base_uri": "https://localhost:8080/"
        },
        "id": "Z6Nug9Vc4cy2",
        "outputId": "8e9f5957-e207-41f3-cace-32e04fddbc52"
      },
      "execution_count": 10,
      "outputs": [
        {
          "output_type": "stream",
          "name": "stdout",
          "text": [
            "491\n",
            "154\n",
            "123\n"
          ]
        }
      ]
    },
    {
      "cell_type": "code",
      "source": [
        "from keras.models import Sequential\n",
        "from keras.layers import Dense\n",
        "\n",
        "#create model\n",
        "model = Sequential()\n",
        "model.add(Dense(24, input_shape=(8,),activation='relu'))\n",
        "model.add(Dense(20, activation='relu'))\n",
        "model.add(Dense(12, activation='tanh'))\n",
        "model.add(Dense(8, activation='relu'))\n",
        "model.add(Dense(2, activation='softmax'))\n",
        "\n",
        "#gives the summary of the model\n",
        "model.summary()"
      ],
      "metadata": {
        "colab": {
          "base_uri": "https://localhost:8080/"
        },
        "id": "O9UEcpdj7gco",
        "outputId": "6ccec6d9-3157-4162-c88e-62240ba2c51e"
      },
      "execution_count": 11,
      "outputs": [
        {
          "output_type": "stream",
          "name": "stdout",
          "text": [
            "Model: \"sequential\"\n",
            "_________________________________________________________________\n",
            " Layer (type)                Output Shape              Param #   \n",
            "=================================================================\n",
            " dense (Dense)               (None, 24)                216       \n",
            "                                                                 \n",
            " dense_1 (Dense)             (None, 20)                500       \n",
            "                                                                 \n",
            " dense_2 (Dense)             (None, 12)                252       \n",
            "                                                                 \n",
            " dense_3 (Dense)             (None, 8)                 104       \n",
            "                                                                 \n",
            " dense_4 (Dense)             (None, 2)                 18        \n",
            "                                                                 \n",
            "=================================================================\n",
            "Total params: 1,090\n",
            "Trainable params: 1,090\n",
            "Non-trainable params: 0\n",
            "_________________________________________________________________\n"
          ]
        }
      ]
    },
    {
      "cell_type": "code",
      "source": [
        "from tensorflow.keras import optimizers\n",
        "opt = optimizers.SGD(learning_rate = 0.01)\n",
        "model.compile(loss='categorical_crossentropy', optimizer=opt, metrics=['accuracy'])"
      ],
      "metadata": {
        "id": "uQY5jfAz9nRt"
      },
      "execution_count": 12,
      "outputs": []
    },
    {
      "cell_type": "code",
      "source": [
        "hist = model.fit(x_training, y_training, batch_size=4, epochs=100, validation_data=(x_valid,y_valid))"
      ],
      "metadata": {
        "colab": {
          "base_uri": "https://localhost:8080/"
        },
        "id": "12SuYbVL_MhG",
        "outputId": "86bc278a-48d2-4743-a5d8-2a40c01d8b41"
      },
      "execution_count": 13,
      "outputs": [
        {
          "output_type": "stream",
          "name": "stdout",
          "text": [
            "Epoch 1/100\n",
            "123/123 [==============================] - 1s 4ms/step - loss: 0.6568 - accuracy: 0.6680 - val_loss: 0.6694 - val_accuracy: 0.6260\n",
            "Epoch 2/100\n",
            "123/123 [==============================] - 0s 2ms/step - loss: 0.6374 - accuracy: 0.6680 - val_loss: 0.6690 - val_accuracy: 0.6260\n",
            "Epoch 3/100\n",
            "123/123 [==============================] - 0s 2ms/step - loss: 0.6266 - accuracy: 0.6680 - val_loss: 0.6507 - val_accuracy: 0.6260\n",
            "Epoch 4/100\n",
            "123/123 [==============================] - 0s 2ms/step - loss: 0.6133 - accuracy: 0.6680 - val_loss: 0.6425 - val_accuracy: 0.6260\n",
            "Epoch 5/100\n",
            "123/123 [==============================] - 0s 2ms/step - loss: 0.5975 - accuracy: 0.6680 - val_loss: 0.6272 - val_accuracy: 0.6260\n",
            "Epoch 6/100\n",
            "123/123 [==============================] - 0s 2ms/step - loss: 0.5868 - accuracy: 0.6741 - val_loss: 0.6431 - val_accuracy: 0.6260\n",
            "Epoch 7/100\n",
            "123/123 [==============================] - 0s 2ms/step - loss: 0.5760 - accuracy: 0.6640 - val_loss: 0.5985 - val_accuracy: 0.6829\n",
            "Epoch 8/100\n",
            "123/123 [==============================] - 0s 2ms/step - loss: 0.5587 - accuracy: 0.7047 - val_loss: 0.5888 - val_accuracy: 0.6748\n",
            "Epoch 9/100\n",
            "123/123 [==============================] - 0s 2ms/step - loss: 0.5467 - accuracy: 0.7128 - val_loss: 0.5778 - val_accuracy: 0.6992\n",
            "Epoch 10/100\n",
            "123/123 [==============================] - 0s 2ms/step - loss: 0.5368 - accuracy: 0.7128 - val_loss: 0.5575 - val_accuracy: 0.7317\n",
            "Epoch 11/100\n",
            "123/123 [==============================] - 0s 2ms/step - loss: 0.5223 - accuracy: 0.7210 - val_loss: 0.5455 - val_accuracy: 0.7073\n",
            "Epoch 12/100\n",
            "123/123 [==============================] - 0s 2ms/step - loss: 0.5191 - accuracy: 0.7454 - val_loss: 0.5346 - val_accuracy: 0.7154\n",
            "Epoch 13/100\n",
            "123/123 [==============================] - 0s 2ms/step - loss: 0.5102 - accuracy: 0.7434 - val_loss: 0.5286 - val_accuracy: 0.7317\n",
            "Epoch 14/100\n",
            "123/123 [==============================] - 0s 2ms/step - loss: 0.4983 - accuracy: 0.7617 - val_loss: 0.5498 - val_accuracy: 0.7561\n",
            "Epoch 15/100\n",
            "123/123 [==============================] - 0s 2ms/step - loss: 0.4975 - accuracy: 0.7556 - val_loss: 0.5230 - val_accuracy: 0.7724\n",
            "Epoch 16/100\n",
            "123/123 [==============================] - 0s 2ms/step - loss: 0.4823 - accuracy: 0.7597 - val_loss: 0.5110 - val_accuracy: 0.7724\n",
            "Epoch 17/100\n",
            "123/123 [==============================] - 0s 2ms/step - loss: 0.4765 - accuracy: 0.7780 - val_loss: 0.5621 - val_accuracy: 0.7561\n",
            "Epoch 18/100\n",
            "123/123 [==============================] - 0s 2ms/step - loss: 0.4832 - accuracy: 0.7576 - val_loss: 0.5012 - val_accuracy: 0.7724\n",
            "Epoch 19/100\n",
            "123/123 [==============================] - 0s 2ms/step - loss: 0.4760 - accuracy: 0.7637 - val_loss: 0.4809 - val_accuracy: 0.7886\n",
            "Epoch 20/100\n",
            "123/123 [==============================] - 0s 2ms/step - loss: 0.4841 - accuracy: 0.7617 - val_loss: 0.4802 - val_accuracy: 0.7805\n",
            "Epoch 21/100\n",
            "123/123 [==============================] - 0s 2ms/step - loss: 0.4819 - accuracy: 0.7597 - val_loss: 0.4775 - val_accuracy: 0.8049\n",
            "Epoch 22/100\n",
            "123/123 [==============================] - 0s 2ms/step - loss: 0.4769 - accuracy: 0.7699 - val_loss: 0.4871 - val_accuracy: 0.8049\n",
            "Epoch 23/100\n",
            "123/123 [==============================] - 0s 2ms/step - loss: 0.4719 - accuracy: 0.7637 - val_loss: 0.4816 - val_accuracy: 0.7724\n",
            "Epoch 24/100\n",
            "123/123 [==============================] - 0s 2ms/step - loss: 0.4678 - accuracy: 0.7719 - val_loss: 0.4711 - val_accuracy: 0.7967\n",
            "Epoch 25/100\n",
            "123/123 [==============================] - 0s 2ms/step - loss: 0.4771 - accuracy: 0.7576 - val_loss: 0.4890 - val_accuracy: 0.7886\n",
            "Epoch 26/100\n",
            "123/123 [==============================] - 0s 2ms/step - loss: 0.4614 - accuracy: 0.7882 - val_loss: 0.6162 - val_accuracy: 0.7480\n",
            "Epoch 27/100\n",
            "123/123 [==============================] - 0s 2ms/step - loss: 0.4774 - accuracy: 0.7637 - val_loss: 0.5064 - val_accuracy: 0.7967\n",
            "Epoch 28/100\n",
            "123/123 [==============================] - 0s 2ms/step - loss: 0.4679 - accuracy: 0.7597 - val_loss: 0.4732 - val_accuracy: 0.7886\n",
            "Epoch 29/100\n",
            "123/123 [==============================] - 0s 2ms/step - loss: 0.4680 - accuracy: 0.7597 - val_loss: 0.5206 - val_accuracy: 0.7480\n",
            "Epoch 30/100\n",
            "123/123 [==============================] - 0s 2ms/step - loss: 0.4651 - accuracy: 0.7658 - val_loss: 0.4666 - val_accuracy: 0.7642\n",
            "Epoch 31/100\n",
            "123/123 [==============================] - 0s 2ms/step - loss: 0.4731 - accuracy: 0.7515 - val_loss: 0.4889 - val_accuracy: 0.8049\n",
            "Epoch 32/100\n",
            "123/123 [==============================] - 0s 2ms/step - loss: 0.4645 - accuracy: 0.7678 - val_loss: 0.4632 - val_accuracy: 0.8049\n",
            "Epoch 33/100\n",
            "123/123 [==============================] - 0s 2ms/step - loss: 0.4625 - accuracy: 0.7760 - val_loss: 0.4692 - val_accuracy: 0.7967\n",
            "Epoch 34/100\n",
            "123/123 [==============================] - 0s 2ms/step - loss: 0.4681 - accuracy: 0.7434 - val_loss: 0.4876 - val_accuracy: 0.8130\n",
            "Epoch 35/100\n",
            "123/123 [==============================] - 0s 2ms/step - loss: 0.4646 - accuracy: 0.7678 - val_loss: 0.4593 - val_accuracy: 0.8293\n",
            "Epoch 36/100\n",
            "123/123 [==============================] - 0s 2ms/step - loss: 0.4624 - accuracy: 0.7923 - val_loss: 0.4767 - val_accuracy: 0.7967\n",
            "Epoch 37/100\n",
            "123/123 [==============================] - 0s 2ms/step - loss: 0.4601 - accuracy: 0.7821 - val_loss: 0.4893 - val_accuracy: 0.7805\n",
            "Epoch 38/100\n",
            "123/123 [==============================] - 0s 2ms/step - loss: 0.4663 - accuracy: 0.7658 - val_loss: 0.4705 - val_accuracy: 0.8049\n",
            "Epoch 39/100\n",
            "123/123 [==============================] - 0s 2ms/step - loss: 0.4581 - accuracy: 0.7780 - val_loss: 0.5392 - val_accuracy: 0.6748\n",
            "Epoch 40/100\n",
            "123/123 [==============================] - 0s 2ms/step - loss: 0.4702 - accuracy: 0.7699 - val_loss: 0.4699 - val_accuracy: 0.7886\n",
            "Epoch 41/100\n",
            "123/123 [==============================] - 0s 2ms/step - loss: 0.4628 - accuracy: 0.7739 - val_loss: 0.4568 - val_accuracy: 0.8049\n",
            "Epoch 42/100\n",
            "123/123 [==============================] - 0s 2ms/step - loss: 0.4613 - accuracy: 0.7780 - val_loss: 0.4821 - val_accuracy: 0.7724\n",
            "Epoch 43/100\n",
            "123/123 [==============================] - 0s 2ms/step - loss: 0.4519 - accuracy: 0.7597 - val_loss: 0.4581 - val_accuracy: 0.7805\n",
            "Epoch 44/100\n",
            "123/123 [==============================] - 0s 2ms/step - loss: 0.4607 - accuracy: 0.7739 - val_loss: 0.4595 - val_accuracy: 0.7724\n",
            "Epoch 45/100\n",
            "123/123 [==============================] - 0s 2ms/step - loss: 0.4606 - accuracy: 0.7617 - val_loss: 0.4543 - val_accuracy: 0.7967\n",
            "Epoch 46/100\n",
            "123/123 [==============================] - 0s 2ms/step - loss: 0.4589 - accuracy: 0.7821 - val_loss: 0.4600 - val_accuracy: 0.8049\n",
            "Epoch 47/100\n",
            "123/123 [==============================] - 0s 2ms/step - loss: 0.4568 - accuracy: 0.7719 - val_loss: 0.5021 - val_accuracy: 0.8049\n",
            "Epoch 48/100\n",
            "123/123 [==============================] - 0s 2ms/step - loss: 0.4576 - accuracy: 0.7821 - val_loss: 0.4704 - val_accuracy: 0.8049\n",
            "Epoch 49/100\n",
            "123/123 [==============================] - 0s 2ms/step - loss: 0.4604 - accuracy: 0.7862 - val_loss: 0.4887 - val_accuracy: 0.7886\n",
            "Epoch 50/100\n",
            "123/123 [==============================] - 0s 2ms/step - loss: 0.4545 - accuracy: 0.7821 - val_loss: 0.4721 - val_accuracy: 0.8049\n",
            "Epoch 51/100\n",
            "123/123 [==============================] - 0s 2ms/step - loss: 0.4516 - accuracy: 0.7841 - val_loss: 0.4796 - val_accuracy: 0.7967\n",
            "Epoch 52/100\n",
            "123/123 [==============================] - 0s 2ms/step - loss: 0.4516 - accuracy: 0.7760 - val_loss: 0.5055 - val_accuracy: 0.8130\n",
            "Epoch 53/100\n",
            "123/123 [==============================] - 0s 2ms/step - loss: 0.4519 - accuracy: 0.7760 - val_loss: 0.4686 - val_accuracy: 0.7886\n",
            "Epoch 54/100\n",
            "123/123 [==============================] - 0s 2ms/step - loss: 0.4569 - accuracy: 0.7780 - val_loss: 0.4587 - val_accuracy: 0.8130\n",
            "Epoch 55/100\n",
            "123/123 [==============================] - 0s 2ms/step - loss: 0.4477 - accuracy: 0.7699 - val_loss: 0.4794 - val_accuracy: 0.7561\n",
            "Epoch 56/100\n",
            "123/123 [==============================] - 0s 2ms/step - loss: 0.4618 - accuracy: 0.7882 - val_loss: 0.4835 - val_accuracy: 0.8130\n",
            "Epoch 57/100\n",
            "123/123 [==============================] - 0s 2ms/step - loss: 0.4505 - accuracy: 0.7760 - val_loss: 0.4538 - val_accuracy: 0.7805\n",
            "Epoch 58/100\n",
            "123/123 [==============================] - 0s 2ms/step - loss: 0.4464 - accuracy: 0.7963 - val_loss: 0.4665 - val_accuracy: 0.7886\n",
            "Epoch 59/100\n",
            "123/123 [==============================] - 0s 2ms/step - loss: 0.4497 - accuracy: 0.7760 - val_loss: 0.4562 - val_accuracy: 0.8130\n",
            "Epoch 60/100\n",
            "123/123 [==============================] - 0s 2ms/step - loss: 0.4533 - accuracy: 0.7678 - val_loss: 0.4587 - val_accuracy: 0.8049\n",
            "Epoch 61/100\n",
            "123/123 [==============================] - 0s 2ms/step - loss: 0.4537 - accuracy: 0.7923 - val_loss: 0.4722 - val_accuracy: 0.7967\n",
            "Epoch 62/100\n",
            "123/123 [==============================] - 0s 2ms/step - loss: 0.4419 - accuracy: 0.7821 - val_loss: 0.4631 - val_accuracy: 0.7967\n",
            "Epoch 63/100\n",
            "123/123 [==============================] - 0s 2ms/step - loss: 0.4527 - accuracy: 0.7780 - val_loss: 0.4589 - val_accuracy: 0.7886\n",
            "Epoch 64/100\n",
            "123/123 [==============================] - 0s 2ms/step - loss: 0.4541 - accuracy: 0.7760 - val_loss: 0.4526 - val_accuracy: 0.7886\n",
            "Epoch 65/100\n",
            "123/123 [==============================] - 0s 2ms/step - loss: 0.4444 - accuracy: 0.7780 - val_loss: 0.4666 - val_accuracy: 0.7480\n",
            "Epoch 66/100\n",
            "123/123 [==============================] - 0s 2ms/step - loss: 0.4521 - accuracy: 0.7882 - val_loss: 0.4535 - val_accuracy: 0.7724\n",
            "Epoch 67/100\n",
            "123/123 [==============================] - 0s 2ms/step - loss: 0.4436 - accuracy: 0.7658 - val_loss: 0.4892 - val_accuracy: 0.7642\n",
            "Epoch 68/100\n",
            "123/123 [==============================] - 0s 2ms/step - loss: 0.4442 - accuracy: 0.7699 - val_loss: 0.4778 - val_accuracy: 0.7886\n",
            "Epoch 69/100\n",
            "123/123 [==============================] - 0s 2ms/step - loss: 0.4423 - accuracy: 0.7800 - val_loss: 0.4883 - val_accuracy: 0.7967\n",
            "Epoch 70/100\n",
            "123/123 [==============================] - 0s 2ms/step - loss: 0.4381 - accuracy: 0.7902 - val_loss: 0.4620 - val_accuracy: 0.7642\n",
            "Epoch 71/100\n",
            "123/123 [==============================] - 0s 2ms/step - loss: 0.4479 - accuracy: 0.7780 - val_loss: 0.4557 - val_accuracy: 0.7886\n",
            "Epoch 72/100\n",
            "123/123 [==============================] - 0s 2ms/step - loss: 0.4508 - accuracy: 0.7739 - val_loss: 0.4531 - val_accuracy: 0.7886\n",
            "Epoch 73/100\n",
            "123/123 [==============================] - 0s 2ms/step - loss: 0.4465 - accuracy: 0.7800 - val_loss: 0.4770 - val_accuracy: 0.7967\n",
            "Epoch 74/100\n",
            "123/123 [==============================] - 0s 2ms/step - loss: 0.4418 - accuracy: 0.7963 - val_loss: 0.4553 - val_accuracy: 0.7805\n",
            "Epoch 75/100\n",
            "123/123 [==============================] - 0s 2ms/step - loss: 0.4411 - accuracy: 0.7780 - val_loss: 0.4532 - val_accuracy: 0.7886\n",
            "Epoch 76/100\n",
            "123/123 [==============================] - 0s 2ms/step - loss: 0.4489 - accuracy: 0.7800 - val_loss: 0.5003 - val_accuracy: 0.7398\n",
            "Epoch 77/100\n",
            "123/123 [==============================] - 0s 2ms/step - loss: 0.4370 - accuracy: 0.7841 - val_loss: 0.4635 - val_accuracy: 0.7724\n",
            "Epoch 78/100\n",
            "123/123 [==============================] - 0s 2ms/step - loss: 0.4505 - accuracy: 0.7923 - val_loss: 0.4591 - val_accuracy: 0.7724\n",
            "Epoch 79/100\n",
            "123/123 [==============================] - 0s 2ms/step - loss: 0.4428 - accuracy: 0.7902 - val_loss: 0.5252 - val_accuracy: 0.7561\n",
            "Epoch 80/100\n",
            "123/123 [==============================] - 0s 2ms/step - loss: 0.4495 - accuracy: 0.7800 - val_loss: 0.4578 - val_accuracy: 0.7724\n",
            "Epoch 81/100\n",
            "123/123 [==============================] - 0s 2ms/step - loss: 0.4399 - accuracy: 0.7862 - val_loss: 0.4998 - val_accuracy: 0.7967\n",
            "Epoch 82/100\n",
            "123/123 [==============================] - 0s 2ms/step - loss: 0.4426 - accuracy: 0.7923 - val_loss: 0.4668 - val_accuracy: 0.7886\n",
            "Epoch 83/100\n",
            "123/123 [==============================] - 0s 2ms/step - loss: 0.4375 - accuracy: 0.7821 - val_loss: 0.4571 - val_accuracy: 0.7886\n",
            "Epoch 84/100\n",
            "123/123 [==============================] - 0s 2ms/step - loss: 0.4445 - accuracy: 0.7739 - val_loss: 0.4576 - val_accuracy: 0.7886\n",
            "Epoch 85/100\n",
            "123/123 [==============================] - 0s 2ms/step - loss: 0.4351 - accuracy: 0.7902 - val_loss: 0.4825 - val_accuracy: 0.7724\n",
            "Epoch 86/100\n",
            "123/123 [==============================] - 0s 2ms/step - loss: 0.4430 - accuracy: 0.7800 - val_loss: 0.4693 - val_accuracy: 0.7967\n",
            "Epoch 87/100\n",
            "123/123 [==============================] - 1s 4ms/step - loss: 0.4404 - accuracy: 0.7780 - val_loss: 0.4503 - val_accuracy: 0.8049\n",
            "Epoch 88/100\n",
            "123/123 [==============================] - 1s 5ms/step - loss: 0.4372 - accuracy: 0.7923 - val_loss: 0.4514 - val_accuracy: 0.7724\n",
            "Epoch 89/100\n",
            "123/123 [==============================] - 0s 2ms/step - loss: 0.4332 - accuracy: 0.7923 - val_loss: 0.4957 - val_accuracy: 0.7886\n",
            "Epoch 90/100\n",
            "123/123 [==============================] - 1s 6ms/step - loss: 0.4443 - accuracy: 0.7862 - val_loss: 0.4527 - val_accuracy: 0.8211\n",
            "Epoch 91/100\n",
            "123/123 [==============================] - 0s 3ms/step - loss: 0.4367 - accuracy: 0.7963 - val_loss: 0.4526 - val_accuracy: 0.8049\n",
            "Epoch 92/100\n",
            "123/123 [==============================] - 0s 2ms/step - loss: 0.4419 - accuracy: 0.7780 - val_loss: 0.4524 - val_accuracy: 0.7967\n",
            "Epoch 93/100\n",
            "123/123 [==============================] - 1s 7ms/step - loss: 0.4408 - accuracy: 0.7882 - val_loss: 0.4571 - val_accuracy: 0.7724\n",
            "Epoch 94/100\n",
            "123/123 [==============================] - 0s 2ms/step - loss: 0.4353 - accuracy: 0.7882 - val_loss: 0.5161 - val_accuracy: 0.8049\n",
            "Epoch 95/100\n",
            "123/123 [==============================] - 0s 2ms/step - loss: 0.4410 - accuracy: 0.7923 - val_loss: 0.4823 - val_accuracy: 0.7805\n",
            "Epoch 96/100\n",
            "123/123 [==============================] - 0s 2ms/step - loss: 0.4401 - accuracy: 0.7800 - val_loss: 0.4544 - val_accuracy: 0.8049\n",
            "Epoch 97/100\n",
            "123/123 [==============================] - 0s 2ms/step - loss: 0.4479 - accuracy: 0.7699 - val_loss: 0.4550 - val_accuracy: 0.7967\n",
            "Epoch 98/100\n",
            "123/123 [==============================] - 0s 2ms/step - loss: 0.4319 - accuracy: 0.7882 - val_loss: 0.5089 - val_accuracy: 0.8130\n",
            "Epoch 99/100\n",
            "123/123 [==============================] - 0s 2ms/step - loss: 0.4372 - accuracy: 0.7862 - val_loss: 0.4587 - val_accuracy: 0.7805\n",
            "Epoch 100/100\n",
            "123/123 [==============================] - 0s 2ms/step - loss: 0.4413 - accuracy: 0.7780 - val_loss: 0.4579 - val_accuracy: 0.7805\n"
          ]
        }
      ]
    },
    {
      "cell_type": "code",
      "source": [
        "import matplotlib.pyplot as plt \n",
        "acc = hist.history['accuracy']\n",
        "val_acc = hist.history['val_accuracy']\n",
        "loss = hist.history['loss']\n",
        "val_loss = hist.history['val_loss']\n",
        " \n",
        "epochs = range(len(acc))\n",
        " \n",
        "plt.plot(epochs, acc, 'b', label='Training acc')\n",
        "plt.plot(epochs, val_acc, 'r', label='Validation acc')\n",
        "plt.title('Training and validation accuracy')\n",
        "plt.legend()\n",
        "plt.savefig('custom_trainvalacc.png')\n",
        "plt.figure()\n",
        " \n",
        "plt.plot(epochs, loss, 'b', label='Training loss')\n",
        "plt.plot(epochs, val_loss, 'r', label='Validation loss')\n",
        "plt.title('Training and validation loss')\n",
        "plt.legend()\n",
        " \n",
        "#plt.show()\n",
        "plt.savefig('custom_trainvalloss.png')\n",
        "plt.figure()"
      ],
      "metadata": {
        "colab": {
          "base_uri": "https://localhost:8080/",
          "height": 582
        },
        "id": "dNZAZ0_uQ6jS",
        "outputId": "75e38ddf-c8bb-4466-98a9-aecd664cbda3"
      },
      "execution_count": 14,
      "outputs": [
        {
          "output_type": "execute_result",
          "data": {
            "text/plain": [
              "<Figure size 432x288 with 0 Axes>"
            ]
          },
          "metadata": {},
          "execution_count": 14
        },
        {
          "output_type": "display_data",
          "data": {
            "text/plain": [
              "<Figure size 432x288 with 1 Axes>"
            ],
            "image/png": "[encoded data removed]"
          },
          "metadata": {
            "needs_background": "light"
          }
        },
        {
          "output_type": "display_data",
          "data": {
            "text/plain": [
              "<Figure size 432x288 with 1 Axes>"
            ],
            "image/png": "[encoded data removed]"
          },
          "metadata": {
            "needs_background": "light"
          }
        },
        {
          "output_type": "display_data",
          "data": {
            "text/plain": [
              "<Figure size 432x288 with 0 Axes>"
            ]
          },
          "metadata": {}
        }
      ]
    },
    {
      "cell_type": "code",
      "source": [
        "res = model.evaluate(x_testing,y_testing)"
      ],
      "metadata": {
        "colab": {
          "base_uri": "https://localhost:8080/"
        },
        "id": "fGngt_WWR2t8",
        "outputId": "885da791-cabd-4718-d2f4-0c6b80976eaf"
      },
      "execution_count": 15,
      "outputs": [
        {
          "output_type": "stream",
          "name": "stdout",
          "text": [
            "5/5 [==============================] - 0s 3ms/step - loss: 0.4746 - accuracy: 0.7532\n"
          ]
        }
      ]
    },
    {
      "cell_type": "code",
      "source": [
        "test = x_testing[0]\n",
        "y_act = y_testing[0]\n",
        "result = model.predict(test.reshape(1,8))\n",
        "result"
      ],
      "metadata": {
        "colab": {
          "base_uri": "https://localhost:8080/"
        },
        "id": "wzWXd8fcTAkk",
        "outputId": "093f1158-04d8-4aab-8c6e-6f899a7b798b"
      },
      "execution_count": 16,
      "outputs": [
        {
          "output_type": "execute_result",
          "data": {
            "text/plain": [
              "array([[0.33857355, 0.6614265 ]], dtype=float32)"
            ]
          },
          "metadata": {},
          "execution_count": 16
        }
      ]
    },
    {
      "cell_type": "code",
      "source": [
        "import numpy as np\n",
        "y_pred = np.round(result)\n",
        "print(\"Actual: \"+str(y_act))\n",
        "print(\"Predicted: \"+str(y_pred))"
      ],
      "metadata": {
        "colab": {
          "base_uri": "https://localhost:8080/"
        },
        "id": "9Xd7XByJTWUy",
        "outputId": "e6662426-8482-486d-ac13-5e45c29391c4"
      },
      "execution_count": 17,
      "outputs": [
        {
          "output_type": "stream",
          "name": "stdout",
          "text": [
            "Actual: [1. 0.]\n",
            "Predicted: [[0. 1.]]\n"
          ]
        }
      ]
    }
  ]
}